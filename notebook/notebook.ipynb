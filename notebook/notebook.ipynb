{
 "cells": [
  {
   "cell_type": "code",
   "execution_count": 1,
   "id": "89ec8c3f",
   "metadata": {},
   "outputs": [],
   "source": [
    "import numpy as np\n",
    "import pandas as pd\n",
    "import polars as pl\n",
    "import matplotlib.pyplot as plt\n",
    "import seaborn as sns\n",
    "\n",
    "import warnings\n",
    "warnings.filterwarnings('ignore')"
   ]
  },
  {
   "cell_type": "code",
   "execution_count": 2,
   "id": "e348144d",
   "metadata": {},
   "outputs": [],
   "source": [
    "# ==*Assign temporary sys path*==\n",
    "import os\n",
    "import sys\n",
    "sys.path.append('../src')\n",
    "# ===============================\n",
    "\n",
    "import utils.utils as utils"
   ]
  },
  {
   "cell_type": "code",
   "execution_count": 3,
   "id": "135a8180",
   "metadata": {},
   "outputs": [],
   "source": [
    "data = pl.read_csv(source='../data/backup/accepted_2007_to_2018Q4.csv',\n",
    "                   has_header=True,\n",
    "                   )\n",
    "# data.drop('member_id')"
   ]
  },
  {
   "cell_type": "code",
   "execution_count": 13,
   "id": "97dde880",
   "metadata": {},
   "outputs": [
    {
     "ename": "AttributeError",
     "evalue": "'DataFrame' object has no attribute 'to_string'",
     "output_type": "error",
     "traceback": [
      "\u001b[31m---------------------------------------------------------------------------\u001b[39m",
      "\u001b[31mAttributeError\u001b[39m                            Traceback (most recent call last)",
      "\u001b[36mCell\u001b[39m\u001b[36m \u001b[39m\u001b[32mIn[13]\u001b[39m\u001b[32m, line 8\u001b[39m\n\u001b[32m      6\u001b[39m \u001b[38;5;66;03m# Log description\u001b[39;00m\n\u001b[32m      7\u001b[39m \u001b[38;5;28;01mwith\u001b[39;00m \u001b[38;5;28mopen\u001b[39m(\u001b[33m'\u001b[39m\u001b[33m../log/description.txt\u001b[39m\u001b[33m'\u001b[39m, \u001b[33m'\u001b[39m\u001b[33mw\u001b[39m\u001b[33m'\u001b[39m) \u001b[38;5;28;01mas\u001b[39;00m f:\n\u001b[32m----> \u001b[39m\u001b[32m8\u001b[39m     f.write(\u001b[43mdata\u001b[49m\u001b[43m.\u001b[49m\u001b[43mdescribe\u001b[49m\u001b[43m(\u001b[49m\u001b[43m)\u001b[49m\u001b[43m.\u001b[49m\u001b[43mto_string\u001b[49m() + \u001b[33m'\u001b[39m\u001b[38;5;130;01m\\n\u001b[39;00m\u001b[33m'\u001b[39m)\n",
      "\u001b[31mAttributeError\u001b[39m: 'DataFrame' object has no attribute 'to_string'"
     ]
    }
   ],
   "source": [
    "# Log colnames\n",
    "with open('../log/colnames.txt', 'w') as f:\n",
    "    for col in data.columns:\n",
    "        f.write(str(col)+'\\n')\n",
    "\n",
    "# Log description\n",
    "with open('../log/description.txt', 'w') as f:\n",
    "    f.write(data.describe().to_string() + '\\n')\n"
   ]
  },
  {
   "cell_type": "code",
   "execution_count": 75,
   "id": "1ab28112",
   "metadata": {},
   "outputs": [
    {
     "data": {
      "text/html": [
       "<div><style>\n",
       ".dataframe > thead > tr,\n",
       ".dataframe > tbody > tr {\n",
       "  text-align: right;\n",
       "  white-space: pre-wrap;\n",
       "}\n",
       "</style>\n",
       "<small>shape: (1,)</small><table border=\"1\" class=\"dataframe\"><thead><tr><th>member_id</th></tr><tr><td>str</td></tr></thead><tbody><tr><td>null</td></tr></tbody></table></div>"
      ],
      "text/plain": [
       "shape: (1,)\n",
       "Series: 'member_id' [str]\n",
       "[\n",
       "\tnull\n",
       "]"
      ]
     },
     "execution_count": 75,
     "metadata": {},
     "output_type": "execute_result"
    }
   ],
   "source": [
    "data[\"member_id\"].unique()"
   ]
  },
  {
   "cell_type": "code",
   "execution_count": null,
   "id": "8e8badae",
   "metadata": {},
   "outputs": [
    {
     "data": {
      "text/html": [
       "<div><style>\n",
       ".dataframe > thead > tr,\n",
       ".dataframe > tbody > tr {\n",
       "  text-align: right;\n",
       "  white-space: pre-wrap;\n",
       "}\n",
       "</style>\n",
       "<small>shape: (2_260_701,)</small><table border=\"1\" class=\"dataframe\"><thead><tr><th>loan_amnt</th></tr><tr><td>str</td></tr></thead><tbody><tr><td>&quot;3600.0&quot;</td></tr><tr><td>&quot;24700.0&quot;</td></tr><tr><td>&quot;20000.0&quot;</td></tr><tr><td>&quot;35000.0&quot;</td></tr><tr><td>&quot;10400.0&quot;</td></tr><tr><td>&hellip;</td></tr><tr><td>&quot;40000.0&quot;</td></tr><tr><td>&quot;24000.0&quot;</td></tr><tr><td>&quot;14000.0&quot;</td></tr><tr><td>null</td></tr><tr><td>null</td></tr></tbody></table></div>"
      ],
      "text/plain": [
       "shape: (2_260_701,)\n",
       "Series: 'loan_amnt' [str]\n",
       "[\n",
       "\t\"3600.0\"\n",
       "\t\"24700.0\"\n",
       "\t\"20000.0\"\n",
       "\t\"35000.0\"\n",
       "\t\"10400.0\"\n",
       "\t…\n",
       "\t\"40000.0\"\n",
       "\t\"24000.0\"\n",
       "\t\"14000.0\"\n",
       "\tnull\n",
       "\tnull\n",
       "]"
      ]
     },
     "execution_count": 52,
     "metadata": {},
     "output_type": "execute_result"
    }
   ],
   "source": []
  }
 ],
 "metadata": {
  "kernelspec": {
   "display_name": "venv (3.11.1)",
   "language": "python",
   "name": "python3"
  },
  "language_info": {
   "codemirror_mode": {
    "name": "ipython",
    "version": 3
   },
   "file_extension": ".py",
   "mimetype": "text/x-python",
   "name": "python",
   "nbconvert_exporter": "python",
   "pygments_lexer": "ipython3",
   "version": "3.11.1"
  }
 },
 "nbformat": 4,
 "nbformat_minor": 5
}
