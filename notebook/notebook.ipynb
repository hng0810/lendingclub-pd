{
 "cells": [
  {
   "cell_type": "markdown",
   "id": "145275ba",
   "metadata": {},
   "source": [
    "# Lending Club Dataset Analysis"
   ]
  },
  {
   "cell_type": "code",
   "execution_count": 1,
   "id": "89ec8c3f",
   "metadata": {},
   "outputs": [],
   "source": [
    "import os\n",
    "import utils\n",
    "import pandas as pd\n",
    "import numpy as np\n",
    "import matplotlib.pyplot as plt\n",
    "import seaborn as sns\n",
    "from pathlib import Path\n",
    "import warnings\n",
    "warnings.filterwarnings('ignore')"
   ]
  },
  {
   "cell_type": "code",
   "execution_count": 11,
   "id": "135a8180",
   "metadata": {},
   "outputs": [],
   "source": [
    "# Nhập dữ liệu\n",
    "file = 'accepted_2007_to_2018Q4'\n",
    "path = Path.cwd().parent\n",
    "data_path = path/'data'/f\"{file}.csv\"\n",
    "data = pd.read_csv(data_path, low_memory=False)"
   ]
  }
 ],
 "metadata": {
  "kernelspec": {
   "display_name": "Python 3",
   "language": "python",
   "name": "python3"
  },
  "language_info": {
   "codemirror_mode": {
    "name": "ipython",
    "version": 3
   },
   "file_extension": ".py",
   "mimetype": "text/x-python",
   "name": "python",
   "nbconvert_exporter": "python",
   "pygments_lexer": "ipython3",
   "version": "3.11.1"
  }
 },
 "nbformat": 4,
 "nbformat_minor": 5
}
